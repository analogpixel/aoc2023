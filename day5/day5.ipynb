{
 "cells": [
  {
   "cell_type": "markdown",
   "id": "c8d5825c-6f3e-4f51-bada-34443c668a2a",
   "metadata": {},
   "source": [
    "# day 5 part 1\n",
    "---"
   ]
  },
  {
   "cell_type": "code",
   "execution_count": 85,
   "id": "03b87b0a-a02c-4944-ab74-5f48feb81420",
   "metadata": {},
   "outputs": [
    {
     "name": "stdout",
     "output_type": "stream",
     "text": [
      "214922730\n"
     ]
    }
   ],
   "source": [
    "import math\n",
    "\n",
    "def map_range(input_value, min_input, max_input, min_output, max_output):\n",
    "    return int( (input_value - min_input) / (max_input - min_input) * (max_output - min_output) + min_output )\n",
    "\n",
    "def translate(ranges, source_number):\n",
    "    \"\"\"\n",
    "    Translate from source range to destination range\n",
    "\n",
    "    in => \n",
    "        ranges : list of range in form of [src, dst, range_size]\n",
    "        source_number : the number to translate\n",
    "\n",
    "    out =>\n",
    "        return the translated number\n",
    "\n",
    "    example => translate( [ [50,98,2], [52,50,48] ], 13)\n",
    "    \"\"\"\n",
    "    \n",
    "    # check each range for a match\n",
    "    for r in ranges:\n",
    "        destination_range_start = r[0]\n",
    "        source_range_start      = r[1]\n",
    "        range_size   = r[2]\n",
    "\n",
    "        if source_number >= source_range_start and source_number <= (source_range_start + range_size):\n",
    "            # this works, but I thought maybe a propper map function might be better?\n",
    "            #return source_number + ( destination_range_start-source_range_start )\n",
    "            return map_range(source_number, \n",
    "                             source_range_start, source_range_start + range_size, \n",
    "                             destination_range_start, destination_range_start + range_size)\n",
    "            \n",
    "    # if no matches then the value is just the same (no translation needed)\n",
    "    return source_number\n",
    "\n",
    "\n",
    "input = open(\"d5.b\").readlines()\n",
    "seeds = [int(x) for x in input[0].strip().split(':')[1].split(' ') if x != \"\"]\n",
    "\n",
    "\n",
    "ranges = {}\n",
    "\n",
    "#\n",
    "# Parse input file\n",
    "#\n",
    "for line in input[2:]:\n",
    "    if 'map:' in line:\n",
    "        current_range = line.strip().split(' ')[0]\n",
    "    elif line.strip() == \"\":\n",
    "        continue\n",
    "    else:\n",
    "        ranges[current_range] = ranges.get(current_range, []) + [ [int(x) for x in line.strip().split(' ') if x != \"\"]]\n",
    "\n",
    "min_range = math.inf\n",
    "for s in seeds:\n",
    "    seed_to_soil            = translate(ranges['seed-to-soil'], s)\n",
    "    soil_to_fertilizer      = translate(ranges['soil-to-fertilizer'], seed_to_soil)\n",
    "    fertilizer_to_water     = translate(ranges['fertilizer-to-water'], soil_to_fertilizer)\n",
    "    water_to_light          = translate(ranges['water-to-light'], fertilizer_to_water)\n",
    "    light_to_temperature    = translate(ranges['light-to-temperature'], water_to_light)\n",
    "    temperature_to_humidity = translate(ranges['temperature-to-humidity'], light_to_temperature)\n",
    "    humidity_to_location    = translate(ranges['humidity-to-location'], temperature_to_humidity)\n",
    "\n",
    "    #print(s, seed_to_soil, soil_to_fertilizer, fertilizer_to_water, water_to_light, light_to_temperature, temperature_to_humidity, humidity_to_location)\n",
    "    if humidity_to_location < min_range:\n",
    "        min_range = humidity_to_location\n",
    "\n",
    "print(min_range)\n"
   ]
  },
  {
   "cell_type": "markdown",
   "id": "ada4cb93-d55c-49bd-909a-7742c7df4f6b",
   "metadata": {},
   "source": [
    "# day 5 part 2\n",
    "---"
   ]
  },
  {
   "cell_type": "code",
   "execution_count": 8,
   "id": "fcd81cc4-5cad-4f6b-86a2-37d641a2cdf5",
   "metadata": {},
   "outputs": [
    {
     "name": "stdout",
     "output_type": "stream",
     "text": [
      "done loading, now calc\n"
     ]
    },
    {
     "ename": "KeyboardInterrupt",
     "evalue": "",
     "output_type": "error",
     "traceback": [
      "\u001b[0;31m---------------------------------------------------------------------------\u001b[0m",
      "\u001b[0;31mKeyboardInterrupt\u001b[0m                         Traceback (most recent call last)",
      "Cell \u001b[0;32mIn[8], line 67\u001b[0m\n\u001b[1;32m     65\u001b[0m fertilizer_to_water     \u001b[38;5;241m=\u001b[39m translate(ranges[\u001b[38;5;124m'\u001b[39m\u001b[38;5;124mfertilizer-to-water\u001b[39m\u001b[38;5;124m'\u001b[39m], soil_to_fertilizer)\n\u001b[1;32m     66\u001b[0m water_to_light          \u001b[38;5;241m=\u001b[39m translate(ranges[\u001b[38;5;124m'\u001b[39m\u001b[38;5;124mwater-to-light\u001b[39m\u001b[38;5;124m'\u001b[39m], fertilizer_to_water)\n\u001b[0;32m---> 67\u001b[0m light_to_temperature    \u001b[38;5;241m=\u001b[39m \u001b[43mtranslate\u001b[49m\u001b[43m(\u001b[49m\u001b[43mranges\u001b[49m\u001b[43m[\u001b[49m\u001b[38;5;124;43m'\u001b[39;49m\u001b[38;5;124;43mlight-to-temperature\u001b[39;49m\u001b[38;5;124;43m'\u001b[39;49m\u001b[43m]\u001b[49m\u001b[43m,\u001b[49m\u001b[43m \u001b[49m\u001b[43mwater_to_light\u001b[49m\u001b[43m)\u001b[49m\n\u001b[1;32m     68\u001b[0m temperature_to_humidity \u001b[38;5;241m=\u001b[39m translate(ranges[\u001b[38;5;124m'\u001b[39m\u001b[38;5;124mtemperature-to-humidity\u001b[39m\u001b[38;5;124m'\u001b[39m], light_to_temperature)\n\u001b[1;32m     69\u001b[0m humidity_to_location    \u001b[38;5;241m=\u001b[39m translate(ranges[\u001b[38;5;124m'\u001b[39m\u001b[38;5;124mhumidity-to-location\u001b[39m\u001b[38;5;124m'\u001b[39m], temperature_to_humidity)\n",
      "Cell \u001b[0;32mIn[8], line 26\u001b[0m, in \u001b[0;36mtranslate\u001b[0;34m(ranges, source_number)\u001b[0m\n\u001b[1;32m     23\u001b[0m     source_range_start      \u001b[38;5;241m=\u001b[39m r[\u001b[38;5;241m1\u001b[39m]\n\u001b[1;32m     24\u001b[0m     range_size   \u001b[38;5;241m=\u001b[39m r[\u001b[38;5;241m2\u001b[39m]\n\u001b[0;32m---> 26\u001b[0m     \u001b[38;5;28;01mif\u001b[39;00m source_number \u001b[38;5;241m>\u001b[39m\u001b[38;5;241m=\u001b[39m source_range_start \u001b[38;5;129;01mand\u001b[39;00m source_number \u001b[38;5;241m<\u001b[39m\u001b[38;5;241m=\u001b[39m (source_range_start \u001b[38;5;241m+\u001b[39m range_size):\n\u001b[1;32m     27\u001b[0m         \u001b[38;5;66;03m# this works, but I thought maybe a propper map function might be better?\u001b[39;00m\n\u001b[1;32m     28\u001b[0m         \u001b[38;5;28;01mreturn\u001b[39;00m source_number \u001b[38;5;241m+\u001b[39m ( destination_range_start\u001b[38;5;241m-\u001b[39msource_range_start )\n\u001b[1;32m     29\u001b[0m         \u001b[38;5;66;03m#return map_range(source_number, \u001b[39;00m\n\u001b[1;32m     30\u001b[0m         \u001b[38;5;66;03m#                 source_range_start, source_range_start + range_size, \u001b[39;00m\n\u001b[1;32m     31\u001b[0m         \u001b[38;5;66;03m#                 destination_range_start, destination_range_start + range_size)\u001b[39;00m\n\u001b[1;32m     32\u001b[0m         \n\u001b[1;32m     33\u001b[0m \u001b[38;5;66;03m# if no matches then the value is just the same (no translation needed)\u001b[39;00m\n",
      "\u001b[0;31mKeyboardInterrupt\u001b[0m: "
     ]
    }
   ],
   "source": [
    "import math\n",
    "\n",
    "def map_range(input_value, min_input, max_input, min_output, max_output):\n",
    "    return int( (input_value - min_input) / (max_input - min_input) * (max_output - min_output) + min_output )\n",
    "\n",
    "def translate(ranges, source_number):\n",
    "    \"\"\"\n",
    "    Translate from source range to destination range\n",
    "\n",
    "    in => \n",
    "        ranges : list of range in form of [src, dst, range_size]\n",
    "        source_number : the number to translate\n",
    "\n",
    "    out =>\n",
    "        return the translated number\n",
    "\n",
    "    example => translate( [ [50,98,2], [52,50,48] ], 13)\n",
    "    \"\"\"\n",
    "    \n",
    "    # check each range for a match\n",
    "    for r in ranges:\n",
    "        destination_range_start = r[0]\n",
    "        source_range_start      = r[1]\n",
    "        range_size   = r[2]\n",
    "\n",
    "        if source_number >= source_range_start and source_number <= (source_range_start + range_size):\n",
    "            # this works, but I thought maybe a propper map function might be better?\n",
    "            return source_number + ( destination_range_start-source_range_start )\n",
    "            #return map_range(source_number, \n",
    "            #                 source_range_start, source_range_start + range_size, \n",
    "            #                 destination_range_start, destination_range_start + range_size)\n",
    "            \n",
    "    # if no matches then the value is just the same (no translation needed)\n",
    "    return source_number\n",
    "\n",
    "\n",
    "input = open(\"d5.b\").readlines()\n",
    "_seeds = [int(x) for x in input[0].strip().split(':')[1].split(' ') if x != \"\"]\n",
    "\n",
    "# seed format is [seed_start1, seed_range_size1, seed_start2, seed_range_size2.....]\n",
    "seeds = []\n",
    "for i in range( 0, len(_seeds) // 2):\n",
    "    idx = i * 2\n",
    "    seeds += list( range(_seeds[idx], _seeds[idx] + _seeds[idx+1]) ) \n",
    "    \n",
    "print(\"done loading, now calc\")\n",
    "\n",
    "ranges = {}\n",
    "\n",
    "#\n",
    "# Parse input file\n",
    "#\n",
    "for line in input[2:]:\n",
    "    if 'map:' in line:\n",
    "        current_range = line.strip().split(' ')[0]\n",
    "    elif line.strip() == \"\":\n",
    "        continue\n",
    "    else:\n",
    "        ranges[current_range] = ranges.get(current_range, []) + [ [int(x) for x in line.strip().split(' ') if x != \"\"]]\n",
    "\n",
    "min_range = math.inf\n",
    "for s in seeds:\n",
    "    seed_to_soil            = translate(ranges['seed-to-soil'], s)\n",
    "    soil_to_fertilizer      = translate(ranges['soil-to-fertilizer'], seed_to_soil)\n",
    "    fertilizer_to_water     = translate(ranges['fertilizer-to-water'], soil_to_fertilizer)\n",
    "    water_to_light          = translate(ranges['water-to-light'], fertilizer_to_water)\n",
    "    light_to_temperature    = translate(ranges['light-to-temperature'], water_to_light)\n",
    "    temperature_to_humidity = translate(ranges['temperature-to-humidity'], light_to_temperature)\n",
    "    humidity_to_location    = translate(ranges['humidity-to-location'], temperature_to_humidity)\n",
    "\n",
    "    #print(s, seed_to_soil, soil_to_fertilizer, fertilizer_to_water, water_to_light, light_to_temperature, temperature_to_humidity, humidity_to_location)\n",
    "    if humidity_to_location < min_range:\n",
    "        min_range = humidity_to_location\n",
    "\n",
    "print(min_range)\n"
   ]
  },
  {
   "cell_type": "markdown",
   "id": "87c2a942-b7a3-4627-ac9a-f2fed1fd985e",
   "metadata": {},
   "source": [
    "idea 2,  work on ranges not entire list of numbers,  need to write functions to claculate the overlaps and calculate the start and stop of range and where they hit translation points...etc....   maybe find a fun way to abstract and work on ranges."
   ]
  },
  {
   "cell_type": "code",
   "execution_count": null,
   "id": "c3f14e1e-57f5-4403-9ee6-9e2626a7a3d5",
   "metadata": {},
   "outputs": [],
   "source": []
  }
 ],
 "metadata": {
  "kernelspec": {
   "display_name": "Python 3 (ipykernel)",
   "language": "python",
   "name": "python3"
  },
  "language_info": {
   "codemirror_mode": {
    "name": "ipython",
    "version": 3
   },
   "file_extension": ".py",
   "mimetype": "text/x-python",
   "name": "python",
   "nbconvert_exporter": "python",
   "pygments_lexer": "ipython3",
   "version": "3.10.9"
  }
 },
 "nbformat": 4,
 "nbformat_minor": 5
}
