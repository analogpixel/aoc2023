{
 "cells": [
  {
   "cell_type": "markdown",
   "id": "9d52a52f-abe7-4476-98a1-bfe254af6b06",
   "metadata": {},
   "source": [
    "\n",
    "```\n",
    "| is a vertical pipe connecting north and south.\n",
    "- is a horizontal pipe connecting east and west.\n",
    "L is a 90-degree bend connecting north and east.\n",
    "J is a 90-degree bend connecting north and west.\n",
    "7 is a 90-degree bend connecting south and west.\n",
    "F is a 90-degree bend connecting south and east.\n",
    ". is ground; there is no pipe in this tile.\n",
    "S is the starting position of the animal; there is a pipe on this tile, but your sketch doesn't show what shape the pipe has.\n",
    "```\n"
   ]
  },
  {
   "cell_type": "code",
   "execution_count": null,
   "id": "fa837cca-ce50-40a6-bbff-3a0d55fd8ced",
   "metadata": {},
   "outputs": [],
   "source": [
    "\n",
    "\n",
    "def follow_path(pipe_map, current_direction,x,y, history):\n",
    "    \"\"\"\n",
    "    pipe_map : map of the the pipes\n",
    "    current_direction : what direction are we heading L,R,U,D\n",
    "    x: current X position\n",
    "    y: curreny y position\n",
    "    history: where we have been\n",
    "\n",
    "    loop for # times? or until we loop back on ourselves.\n",
    "    \"\"\"\n",
    "    \n",
    "    xinc = {'L': -1, 'R': 1, 'U': 0,  'D': 0 }\n",
    "    yinc = {'L':  0, 'R': 0, 'U': -1, 'D': 1 }\n",
    "\n",
    "    while len(history) < 100:    \n",
    "        \n",
    "        # update history\n",
    "        history.append([x,y])\n",
    "\n",
    "        # move along the pipe\n",
    "        x += xinc[current_direction]\n",
    "        y += yinc[current_direction]\n",
    "    \n",
    "        # look at new pipe segment and update direction\n",
    "\n",
    "\n",
    "    \n",
    "\n",
    "d = {\n",
    "'|',  # continue moving in this direction\n",
    "'-',  # continue moving in this direction\n",
    "'L',  # if moving left change to up, if moving down change to right\n",
    "'J',  # if moving right change to up, if moving down change to left\n",
    "'7',  # if moving right change to down, if moving up change to left\n",
    "'F',  # if moving up, change to right, if moving left change to down\n",
    "'.',  # no pipe\n",
    "'S',  # start, but not sure what direction so every direction?\n",
    "}\n",
    "\n",
    "\n",
    "\n",
    "\n"
   ]
  }
 ],
 "metadata": {
  "kernelspec": {
   "display_name": "Python 3 (ipykernel)",
   "language": "python",
   "name": "python3"
  },
  "language_info": {
   "codemirror_mode": {
    "name": "ipython",
    "version": 3
   },
   "file_extension": ".py",
   "mimetype": "text/x-python",
   "name": "python",
   "nbconvert_exporter": "python",
   "pygments_lexer": "ipython3",
   "version": "3.11.5"
  }
 },
 "nbformat": 4,
 "nbformat_minor": 5
}
