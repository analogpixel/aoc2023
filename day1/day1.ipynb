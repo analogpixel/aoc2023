{
 "cells": [
  {
   "cell_type": "markdown",
   "id": "4afdf95c-b882-479a-8de0-51170a3484cf",
   "metadata": {},
   "source": [
    "# Day 1\n"
   ]
  },
  {
   "cell_type": "code",
   "execution_count": 23,
   "id": "8d9d9b2f-d91f-499d-9105-cf3df2135ec5",
   "metadata": {},
   "outputs": [
    {
     "data": {
      "text/plain": [
       "53974"
      ]
     },
     "execution_count": 23,
     "metadata": {},
     "output_type": "execute_result"
    }
   ],
   "source": [
    "total = 0\n",
    "for line in [x.strip() for x in open(\"day_1_input.txt\").readlines()  ]:\n",
    "    nums = [int(a) for a in line if a.isnumeric()]\n",
    "    n1 = nums[0]\n",
    "    n2 = nums[-1]\n",
    "    total += n1 * 10 + n2\n",
    "\n",
    "total\n"
   ]
  },
  {
   "cell_type": "markdown",
   "id": "06e011ca-445f-4735-a015-9ed32de31e10",
   "metadata": {},
   "source": [
    "# part 2\n",
    "\n",
    "the numbers could be spelled out \"one\" \"two\" ...\n",
    "\n",
    "the tricky part is things like eightwo  \n",
    "\n"
   ]
  },
  {
   "cell_type": "code",
   "execution_count": 34,
   "id": "dd4c702d-5219-4e43-aebe-19fcec482679",
   "metadata": {},
   "outputs": [
    {
     "data": {
      "text/plain": [
       "52840"
      ]
     },
     "execution_count": 34,
     "metadata": {},
     "output_type": "execute_result"
    }
   ],
   "source": [
    "word_nums = ['zero', 'one', 'two', 'three', 'four', 'five', 'six', 'seven', 'eight', 'nine'] \n",
    "\n",
    "total = 0\n",
    "for line in [x.strip() for x in open(\"day_1_input.txt\").readlines()  ]:\n",
    "    tl = line\n",
    "    for i,word in enumerate(word_nums):\n",
    "        line = line.replace(word,  word[0] + str(i) + word[1:] )\n",
    "    #print(line)\n",
    "    nums = [int(a) for a in line if a.isnumeric()]\n",
    "    n1 = nums[0]\n",
    "    n2 = nums[-1]\n",
    "    total += n1 * 10 + n2\n",
    "    #print(n1 * 10 + n2)\n",
    "    #print(tl, n1 * 10 + n2)\n",
    "total\n"
   ]
  },
  {
   "cell_type": "markdown",
   "id": "af0d034f-f13f-4ebe-af70-19f993eb7073",
   "metadata": {},
   "source": [
    "This is a \"cleaner\" version of part 2.  the search moves forward and backwards by 1 at a time, and each time searches for each possible value,  the first match it finds it returns."
   ]
  },
  {
   "cell_type": "code",
   "execution_count": 101,
   "id": "76c41bc4-5d19-4273-86ee-eee429dcfea8",
   "metadata": {},
   "outputs": [
    {
     "name": "stdout",
     "output_type": "stream",
     "text": [
      "[[3, 0], [1, 5], [6, 8], [9, 9], [5, 13], [7, 17]]\n",
      "threeone6ninefive7three 37\n"
     ]
    },
    {
     "data": {
      "text/plain": [
       "37"
      ]
     },
     "execution_count": 101,
     "metadata": {},
     "output_type": "execute_result"
    }
   ],
   "source": [
    "import itertools\n",
    "\n",
    "def find_all_occurrences(s, sub):\n",
    "    start = 0\n",
    "    while True:\n",
    "        start = s.find(sub, start)\n",
    "        if start == -1: \n",
    "            return\n",
    "        yield start\n",
    "        start += 1  # move to the next possible start\n",
    "        \n",
    "def first_last(inword):\n",
    "    \n",
    "    values = ['zero', 'one', 'two', 'three', 'four', 'five', 'six', 'seven', 'eight', 'nine', '0','1','2','3','4','5','6','7','8','9']\n",
    "    z = [[i%10, inword.find(word)] for i,word in enumerate(values) ]\n",
    "    nums = sorted( [a for a in z if a[1] != -1] , key=lambda x: x[1]  )\n",
    "    print(nums)\n",
    "    r = nums[0][0] * 10 + nums[-1][0] \n",
    "    print(inword, r)\n",
    "    return r\n",
    "\n",
    "first_last(\"threeone6ninefive7three\" )\n",
    "#total = 0\n",
    "#for line in [x.strip() for x in open(\"day_1_input.txt\").readlines()  ]:\n",
    "#    total += first_last(line)\n",
    "#total"
   ]
  },
  {
   "cell_type": "code",
   "execution_count": 36,
   "id": "9907b73b-8832-4387-89cd-b52ead5a9d2b",
   "metadata": {},
   "outputs": [
    {
     "data": {
      "text/plain": [
       "52840"
      ]
     },
     "execution_count": 36,
     "metadata": {},
     "output_type": "execute_result"
    }
   ],
   "source": [
    "values = ['zero', 'one', 'two', 'three', 'four', 'five', 'six', 'seven', 'eight', 'nine', '0','1','2','3','4','5','6','7','8','9']\n",
    "\n",
    "## Search for the first occurance either foward or backwards in the string.\n",
    "def search(s, direction, values):\n",
    "    if direction == -1:\n",
    "        i = len(s)\n",
    "    else:\n",
    "        i = 0\n",
    "    while i>=0 and i<=len(s):\n",
    "        for cnt,v in enumerate(values):\n",
    "            if s[i:i+len(v)] == v:\n",
    "                return cnt%10\n",
    "        i+=direction\n",
    "    return False\n",
    "\n",
    "total = 0\n",
    "for line in [x.strip() for x in open(\"day_1_input.txt\").readlines()  ]:\n",
    "    n1 = search(line,1,values) # search forward\n",
    "    n2 = search(line,-1,values) #search backwards\n",
    "    total += n1*10+n2\n",
    "\n",
    "total"
   ]
  }
 ],
 "metadata": {
  "kernelspec": {
   "display_name": "Python 3 (ipykernel)",
   "language": "python",
   "name": "python3"
  },
  "language_info": {
   "codemirror_mode": {
    "name": "ipython",
    "version": 3
   },
   "file_extension": ".py",
   "mimetype": "text/x-python",
   "name": "python",
   "nbconvert_exporter": "python",
   "pygments_lexer": "ipython3",
   "version": "3.10.9"
  }
 },
 "nbformat": 4,
 "nbformat_minor": 5
}
