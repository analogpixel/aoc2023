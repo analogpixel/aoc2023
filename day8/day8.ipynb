{
 "cells": [
  {
   "cell_type": "code",
   "execution_count": 47,
   "id": "aeaa45f5-ead6-490c-b5ef-0584eed841f0",
   "metadata": {},
   "outputs": [
    {
     "data": {
      "text/plain": [
       "16897"
      ]
     },
     "execution_count": 47,
     "metadata": {},
     "output_type": "execute_result"
    }
   ],
   "source": [
    "_data = open(\"d8.b\").readlines()\n",
    "\n",
    "path = list(_data[0].strip())\n",
    "\n",
    "map = {}\n",
    "for _tmp in _data[2:]:\n",
    "    m = re.match( r'(...)\\s=\\s\\((...),\\s(...)\\)', _tmp.strip()) \n",
    "    map[ m[1] ] = {\"L\": m[2], \"R\": m[3]}\n",
    "\n",
    "i = 0\n",
    "current = 'AAA'\n",
    "while True:\n",
    "    current = map[current][ path[ i % len(path)] ] \n",
    "    if current == \"ZZZ\":\n",
    "        break\n",
    "    i+=1\n",
    "\n",
    "i+1"
   ]
  },
  {
   "cell_type": "code",
   "execution_count": 111,
   "id": "2819806d-185e-4a55-b2ce-a8d93e308c2a",
   "metadata": {},
   "outputs": [
    {
     "name": "stdout",
     "output_type": "stream",
     "text": [
      "['MCA', 'AAA', 'DCA', 'LGA', 'NLA', 'VPA'] 0\n"
     ]
    },
    {
     "data": {
      "text/plain": [
       "16563603485021"
      ]
     },
     "execution_count": 111,
     "metadata": {},
     "output_type": "execute_result"
    }
   ],
   "source": [
    "import functools\n",
    "import math\n",
    "\n",
    "_data = open(\"d8.b\").readlines()\n",
    "\n",
    "path = list(_data[0].strip())\n",
    "\n",
    "\n",
    "map = {}\n",
    "current_nodes = []\n",
    "\n",
    "for _tmp in _data[2:]:\n",
    "    m = re.match( r'(...)\\s=\\s\\((...),\\s(...)\\)', _tmp.strip()) \n",
    "    map[ m[1] ] = {\"L\": m[2], \"R\": m[3]}\n",
    "    if m[1][2] == \"A\":\n",
    "        current_nodes.append( m[1] )\n",
    "\n",
    "\n",
    "# \n",
    "# Figure out how long each loop is, and then find the least common multiple of all the numbers\n",
    "# \n",
    "z = [ 0 for x in current_nodes]\n",
    "i = 0\n",
    "print(current_nodes,i)\n",
    "while True:\n",
    "    lr = path[i%len(path)]\n",
    "    current_nodes = [ map[x][lr] for x in current_nodes ]\n",
    "    i+=1\n",
    "    #print(current_nodes, i)\n",
    "\n",
    "    for idx, _t in enumerate(current_nodes):\n",
    "        if _t[2] == \"Z\" and z[idx] == 0:\n",
    "            z[idx] = i\n",
    "\n",
    "    # stop when we have loop values for everything\n",
    "    if all( [x>0 for x in z] ):\n",
    "        break\n",
    "\n",
    "# calculate the least common multiple \n",
    "math.lcm( *z)\n"
   ]
  }
 ],
 "metadata": {
  "kernelspec": {
   "display_name": "Python 3 (ipykernel)",
   "language": "python",
   "name": "python3"
  },
  "language_info": {
   "codemirror_mode": {
    "name": "ipython",
    "version": 3
   },
   "file_extension": ".py",
   "mimetype": "text/x-python",
   "name": "python",
   "nbconvert_exporter": "python",
   "pygments_lexer": "ipython3",
   "version": "3.11.5"
  }
 },
 "nbformat": 4,
 "nbformat_minor": 5
}
