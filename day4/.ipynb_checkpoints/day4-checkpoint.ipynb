{
 "cells": [
  {
   "cell_type": "markdown",
   "id": "70c22956-7890-41e4-a945-fd37fa29195b",
   "metadata": {},
   "source": [
    "# Day 4 Part 1\n",
    "---"
   ]
  },
  {
   "cell_type": "code",
   "execution_count": 29,
   "id": "71d712b1-4a8b-4df4-bbb3-86fd8540dac2",
   "metadata": {},
   "outputs": [
    {
     "data": {
      "text/plain": [
       "27059"
      ]
     },
     "execution_count": 29,
     "metadata": {},
     "output_type": "execute_result"
    }
   ],
   "source": [
    "total = 0\n",
    "# Card 1: 41 48 83 86 17 | 83 86  6 31 17  9 48 53\n",
    "for line in open(\"d4.b\").readlines():\n",
    "    # split and replace double spaces with just a space\n",
    "    A,B = line.split(':')[1].replace('  ',' ').split(\"|\")\n",
    "    \n",
    "    A = set([ int(x) for x in A.strip().split(' ') ])\n",
    "    B = set([ int(x) for x in B.strip().split(' ') ] )\n",
    "    # get the number of matches\n",
    "    matches = len(list(A&B)) \n",
    "    # calculate the score \n",
    "    total += int(pow(2,matches-1))\n",
    "\n",
    "total\n",
    "    "
   ]
  },
  {
   "cell_type": "markdown",
   "id": "e4e274cf-92bb-4619-ac8c-bab900591ead",
   "metadata": {},
   "source": [
    "# Day 4 Part 2\n",
    "---"
   ]
  },
  {
   "cell_type": "code",
   "execution_count": 45,
   "id": "a9d24e05-0633-4e6a-955d-2abb2cbb454d",
   "metadata": {},
   "outputs": [
    {
     "data": {
      "text/plain": [
       "30"
      ]
     },
     "execution_count": 45,
     "metadata": {},
     "output_type": "execute_result"
    }
   ],
   "source": [
    "total = 0\n",
    "\n",
    "# read in all the cards so we can get a count to work with\n",
    "#\n",
    "# Card 1: 41 48 83 86 17 | 83 86  6 31 17  9 48 53\n",
    "all_cards = open(\"d4.a\").readlines()\n",
    "\n",
    "# each card starts out with 1\n",
    "card_quantity = [1 for x in all_cards]\n",
    "\n",
    "for idx,line in enumerate(all_cards):\n",
    "    # split and replace double spaces with just a space\n",
    "    A,B = line.split(':')[1].replace('  ',' ').split(\"|\")\n",
    "\n",
    "    # create a set of the numbers so we can intersect them\n",
    "    A = set([ int(x) for x in A.strip().split(' ') ])\n",
    "    B = set([ int(x) for x in B.strip().split(' ') ] )\n",
    "    \n",
    "    # get the number of matches by doing an intersection and then getting the number of matches\n",
    "    matches = len(list(A&B)) \n",
    "\n",
    "    #print(\"card number \", idx+1, \" quantity:\", card_count[idx], \" matches: \" , matches)\n",
    "    \n",
    "    # if idx=0 and matches=3 then range(idx+1, idx+matches+1) = [1,2,3]\n",
    "    for j in range(idx+1, idx+matches+1):\n",
    "        # increase the next j cards quantities by the quanity of the current card you have\n",
    "        # so if you have 10 of the current cart/idx then add 10 to the next j cards\n",
    "        card_quantity[j] += card_quantity[idx]\n",
    "        \n",
    "\n",
    "sum(card_count)\n"
   ]
  },
  {
   "cell_type": "code",
   "execution_count": null,
   "id": "3534619d-baaa-4e72-bc74-73f92264204d",
   "metadata": {},
   "outputs": [],
   "source": []
  }
 ],
 "metadata": {
  "kernelspec": {
   "display_name": "Python 3 (ipykernel)",
   "language": "python",
   "name": "python3"
  },
  "language_info": {
   "codemirror_mode": {
    "name": "ipython",
    "version": 3
   },
   "file_extension": ".py",
   "mimetype": "text/x-python",
   "name": "python",
   "nbconvert_exporter": "python",
   "pygments_lexer": "ipython3",
   "version": "3.11.5"
  }
 },
 "nbformat": 4,
 "nbformat_minor": 5
}
