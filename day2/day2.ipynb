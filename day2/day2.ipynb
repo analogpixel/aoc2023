{
 "cells": [
  {
   "cell_type": "code",
   "execution_count": 16,
   "id": "ae35a7f9-2c4f-42aa-a308-853d54e01dd7",
   "metadata": {},
   "outputs": [
    {
     "data": {
      "text/plain": [
       "2369"
      ]
     },
     "execution_count": 16,
     "metadata": {},
     "output_type": "execute_result"
    }
   ],
   "source": [
    "max_r = 12\n",
    "max_g = 13\n",
    "max_b = 14\n",
    "total = 0\n",
    "\n",
    "def parse_game(game):\n",
    "    r = 0\n",
    "    g = 0\n",
    "    b = 0\n",
    "    for color in [x.strip() for x in game.split(',')]:\n",
    "        if 'red' in color:\n",
    "            r = int(color.split(' ')[0])\n",
    "        if 'green' in color:\n",
    "            g = int(color.split(' ')[0])\n",
    "        if 'blue' in color:\n",
    "            b = int(color.split(' ')[0])\n",
    "            \n",
    "        if r > max_r or g > max_g or b > max_b:\n",
    "            #print(\"failed\", game_num, r,g,b)\n",
    "            return False\n",
    "    return True\n",
    "\n",
    "for line in open(\"day_2_input.txt\").readlines():\n",
    "    game_num,game_list = line.split(':')\n",
    "    game_num = int(game_num.split(\" \")[1])\n",
    "    games = game_list.split(';')\n",
    "    \n",
    "    if all([parse_game(x) for x in games] ):\n",
    "        total+=game_num\n",
    "                \n",
    "\n",
    "total"
   ]
  },
  {
   "cell_type": "markdown",
   "id": "f55180f0-4c26-4161-a7ec-8eceed796ffc",
   "metadata": {},
   "source": [
    "# part 2\n"
   ]
  },
  {
   "cell_type": "code",
   "execution_count": 25,
   "id": "42923c06-065c-470d-88a6-febce8ced0d8",
   "metadata": {},
   "outputs": [
    {
     "data": {
      "text/plain": [
       "66363"
      ]
     },
     "execution_count": 25,
     "metadata": {},
     "output_type": "execute_result"
    }
   ],
   "source": [
    "def parse_games(games):\n",
    "    mr = 0\n",
    "    mg = 0\n",
    "    mb = 0\n",
    "    for game in games:\n",
    "        for color in [x.strip() for x in game.split(',')]:\n",
    "            if 'red' in color:\n",
    "                r = int(color.split(' ')[0])\n",
    "                if r > mr:\n",
    "                    mr = r\n",
    "            if 'green' in color:\n",
    "                g = int(color.split(' ')[0])\n",
    "                if g > mg:\n",
    "                    mg = g\n",
    "            if 'blue' in color:\n",
    "                b = int(color.split(' ')[0])\n",
    "                if b > mb:\n",
    "                    mb = b\n",
    "                \n",
    "    return mr*mb*mg\n",
    "\n",
    "total = 0\n",
    "for line in open(\"day_2_input.txt\").readlines():\n",
    "    game_num,game_list = line.split(':')\n",
    "    game_num = int(game_num.split(\" \")[1])\n",
    "    games = game_list.split(';')\n",
    "    total += parse_games(games)\n",
    "\n",
    "\n",
    "total"
   ]
  },
  {
   "cell_type": "markdown",
   "id": "e8d68d49-d496-46f6-b397-c417713263ca",
   "metadata": {},
   "source": [
    "Just use the first letter of each word as the variable \"r\"ed \"g\"reen \"b\"lue\n",
    "\n",
    "define  what the variable look like as they hit each step so you can better visualize what is happening in the code."
   ]
  },
  {
   "cell_type": "code",
   "execution_count": 34,
   "id": "dba7cee8-c80c-4ffd-8837-b4a8392e6f09",
   "metadata": {},
   "outputs": [
    {
     "data": {
      "text/plain": [
       "2286"
      ]
     },
     "execution_count": 34,
     "metadata": {},
     "output_type": "execute_result"
    }
   ],
   "source": [
    "# games => list of rounds\n",
    "# a round looks like \"# color, # color\"\n",
    "def parse_games(games):\n",
    "    clist={'r':[0], 'g':[0], 'b':[0] }\n",
    "    \n",
    "    # round => \"# color, #color\"\n",
    "    for round in games:\n",
    "        for color in [x.strip() for x in round.split(',')]:\n",
    "            # color => \"# Color\"  for example \"3 Red\"\n",
    "            num,c = color.split(' ')\n",
    "            # c[0] is is the first letter of the color\n",
    "            clist[c[0]].append(int(num))\n",
    "\n",
    "    # get the max from easy list \n",
    "    return max(clist['r']) * max(clist['g']) * max(clist['b'])\n",
    "\n",
    "\n",
    "total = 0\n",
    "for line in open(\"day_2_sample.txt\").readlines():\n",
    "    total += parse_games( line.split(':')[1].split(';') ) \n",
    "    \n",
    "total"
   ]
  },
  {
   "cell_type": "code",
   "execution_count": null,
   "id": "16ab7f9a-309b-4108-a12b-e08485e9bea8",
   "metadata": {},
   "outputs": [],
   "source": []
  }
 ],
 "metadata": {
  "kernelspec": {
   "display_name": "Python 3 (ipykernel)",
   "language": "python",
   "name": "python3"
  },
  "language_info": {
   "codemirror_mode": {
    "name": "ipython",
    "version": 3
   },
   "file_extension": ".py",
   "mimetype": "text/x-python",
   "name": "python",
   "nbconvert_exporter": "python",
   "pygments_lexer": "ipython3",
   "version": "3.11.5"
  }
 },
 "nbformat": 4,
 "nbformat_minor": 5
}
