{
 "cells": [
  {
   "cell_type": "code",
   "execution_count": 33,
   "id": "28f2882f-d9ae-4c8f-a2c0-692b253d02b8",
   "metadata": {},
   "outputs": [
    {
     "name": "stdout",
     "output_type": "stream",
     "text": [
      "34123437\n"
     ]
    }
   ],
   "source": [
    "from functools import reduce\n",
    "import operator\n",
    "\n",
    "t,d = open(\"d6.b2\").readlines()\n",
    "\n",
    "# how long each race lasts in ms\n",
    "times     = [int(x) for x in t.split(\":\")[1].strip().split(' ') if x != \"\"]\n",
    "\n",
    "# current best score\n",
    "distances = [int(x) for x in d.split(\":\")[1].strip().split(' ') if x != \"\"]\n",
    "\n",
    "# Your toy boat has a starting speed of zero millimeters per millisecond. \n",
    "# For each whole millisecond you spend at the beginning of the race holding down the button, \n",
    "# the boat's speed increases by one millimeter per millisecond.\n",
    "\n",
    "# d6.a: ([7, 15, 30], [9, 40, 200])\n",
    "\n",
    "ans = []\n",
    "for idx, time in enumerate(times):\n",
    "    total = 0\n",
    "    for i in range(0, time+1):\n",
    "        if i*(time-i) > distances[idx]:\n",
    "            total+=1\n",
    "    ans.append(total)\n",
    "\n",
    "result = reduce(operator.mul, ans, 1)\n",
    "print(result)"
   ]
  },
  {
   "cell_type": "code",
   "execution_count": null,
   "id": "0b9593d8-689e-42df-a8bd-04b02d3929e6",
   "metadata": {},
   "outputs": [],
   "source": []
  }
 ],
 "metadata": {
  "kernelspec": {
   "display_name": "Python 3 (ipykernel)",
   "language": "python",
   "name": "python3"
  },
  "language_info": {
   "codemirror_mode": {
    "name": "ipython",
    "version": 3
   },
   "file_extension": ".py",
   "mimetype": "text/x-python",
   "name": "python",
   "nbconvert_exporter": "python",
   "pygments_lexer": "ipython3",
   "version": "3.11.5"
  }
 },
 "nbformat": 4,
 "nbformat_minor": 5
}
