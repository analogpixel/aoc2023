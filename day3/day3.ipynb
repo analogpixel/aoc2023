{
 "cells": [
  {
   "cell_type": "markdown",
   "id": "9b499810-3869-45ec-8f3a-8e8cb368f053",
   "metadata": {},
   "source": [
    "# Part 1\n",
    "---"
   ]
  },
  {
   "cell_type": "code",
   "execution_count": 49,
   "id": "541c28a5-e55d-48e5-a2d5-83a564ce083f",
   "metadata": {},
   "outputs": [
    {
     "name": "stdout",
     "output_type": "stream",
     "text": [
      "539637\n"
     ]
    }
   ],
   "source": [
    "input_grid = [list(x.strip()) for x in open(\"d3.b\").readlines()]\n",
    "\"\"\"\n",
    "[['4', '6', '7', '.', '.', '1', '1', '4', '.', '.'],\n",
    " ['.', '.', '.', '*', '.', '.', '.', '.', '.', '.'],\n",
    " ['.', '.', '3', '5', '.', '.', '6', '3', '3', '.'],\n",
    " ['.', '.', '.', '.', '.', '.', '#', '.', '.', '.'],\n",
    " ['6', '1', '7', '*', '.', '.', '.', '.', '.', '.'],\n",
    " ['.', '.', '.', '.', '.', '+', '.', '5', '8', '.'],\n",
    " ['.', '.', '5', '9', '2', '.', '.', '.', '.', '.'],\n",
    " ['.', '.', '.', '.', '.', '.', '7', '5', '5', '.'],\n",
    " ['.', '.', '.', '$', '.', '*', '.', '.', '.', '.'],\n",
    " ['.', '6', '6', '4', '.', '5', '9', '8', '.', '.']]\n",
    "\"\"\"\n",
    "\n",
    "def find_nums(input):\n",
    "    \"\"\"\n",
    "    >>> find_nums( ['4', '6', '7', '.', '.', '1', '1', '4', '.', '.'] )\n",
    "    [[467, 0], [114, 5]]\n",
    "    \n",
    "    given a list of characters, find numbers, and \n",
    "    return the number and the location in the list where it started\n",
    "    \"\"\"\n",
    "    nums = ['0','1','2','3','4','5','6','7','8','9']\n",
    "    i = 0\n",
    "    ret = []\n",
    "    \n",
    "    while i < len(input):\n",
    "        if input[i] in nums:\n",
    "            _n = \"\"\n",
    "            _s = i\n",
    "            while i < len(input) and input[i] in nums:\n",
    "                _n += input[i]\n",
    "                i+=1\n",
    "            ret.append([int(_n), _s])\n",
    "        i+=1\n",
    "        \n",
    "    return ret\n",
    "\n",
    "def search_frame(input_grid, num , x, y):\n",
    "    \"\"\"\n",
    "    given an input_grid, search a frame(x) around the number for anything that\n",
    "    isn't valid (number or .)  return True if something is found, False if nothing\n",
    "    is found\n",
    "\n",
    "    xxxxx\n",
    "    x567x\n",
    "    xxxxx\n",
    "\n",
    "    >>> search_frame( input_grid, 467, 0,0 )\n",
    "    True\n",
    "    \n",
    "    \"\"\"\n",
    "    valid = ['0','1','2','3','4','5','6','7','8','9','.']\n",
    "    num_len = len(str(num)) # len(\"123\") == 3\n",
    "    start_x = x - 1\n",
    "    start_y = y - 1\n",
    "    end_x = x+num_len\n",
    "    end_y = y + 1\n",
    "\n",
    "    for y in range(start_y, end_y+1):\n",
    "        #print()\n",
    "        for x in range(start_x, end_x+1):\n",
    "            if x<0 or y<0 or x>=len(input_grid[0]) or y >= len(input_grid):\n",
    "                continue\n",
    "            #print( input_grid[y][x],  end='' )\n",
    "            if input_grid[y][x] not in valid:\n",
    "                return True\n",
    "    return False\n",
    "    \n",
    "\n",
    "total = 0\n",
    "for y,num_list in enumerate([ find_nums(x) for x in input_grid]):\n",
    "    # y => row number starting with 0\n",
    "    # num_list => [ [num, xpos], [num, xpos] ]\n",
    "    for num in num_list:\n",
    "        # num => [num, xpos]\n",
    "        if search_frame( input_grid, num[0], num[1], y):\n",
    "            total += num[0]\n",
    "\n",
    "print(total)\n",
    "\n",
    "\n"
   ]
  },
  {
   "cell_type": "markdown",
   "id": "80b979c8-b42d-4544-9c1a-5def0bee7f9f",
   "metadata": {},
   "source": [
    "# Part 2\n",
    "---"
   ]
  },
  {
   "cell_type": "code",
   "execution_count": 53,
   "id": "0bc07655-929e-4492-9d4d-9033fef7f043",
   "metadata": {},
   "outputs": [
    {
     "data": {
      "text/plain": [
       "82818007"
      ]
     },
     "execution_count": 53,
     "metadata": {},
     "output_type": "execute_result"
    }
   ],
   "source": [
    "input_grid = [list(x.strip()) for x in open(\"d3.b\").readlines()]\n",
    "\"\"\"\n",
    "[['4', '6', '7', '.', '.', '1', '1', '4', '.', '.'],\n",
    " ['.', '.', '.', '*', '.', '.', '.', '.', '.', '.'],\n",
    " ['.', '.', '3', '5', '.', '.', '6', '3', '3', '.'],\n",
    " ['.', '.', '.', '.', '.', '.', '#', '.', '.', '.'],\n",
    " ['6', '1', '7', '*', '.', '.', '.', '.', '.', '.'],\n",
    " ['.', '.', '.', '.', '.', '+', '.', '5', '8', '.'],\n",
    " ['.', '.', '5', '9', '2', '.', '.', '.', '.', '.'],\n",
    " ['.', '.', '.', '.', '.', '.', '7', '5', '5', '.'],\n",
    " ['.', '.', '.', '$', '.', '*', '.', '.', '.', '.'],\n",
    " ['.', '6', '6', '4', '.', '5', '9', '8', '.', '.']]\n",
    "\"\"\"\n",
    "\n",
    "def find_nums(input):\n",
    "    \"\"\"\n",
    "    >>> find_nums( ['4', '6', '7', '.', '.', '1', '1', '4', '.', '.'] )\n",
    "    [[467, 0], [114, 5]]\n",
    "    \n",
    "    given a list of characters, find numbers, and \n",
    "    return the number and the location in the list where it started\n",
    "    \"\"\"\n",
    "    nums = ['0','1','2','3','4','5','6','7','8','9']\n",
    "    i = 0\n",
    "    ret = []\n",
    "    \n",
    "    while i < len(input):\n",
    "        if input[i] in nums:\n",
    "            _n = \"\"\n",
    "            _s = i\n",
    "            while i < len(input) and input[i] in nums:\n",
    "                _n += input[i]\n",
    "                i+=1\n",
    "            ret.append([int(_n), _s])\n",
    "        i+=1\n",
    "        \n",
    "    return ret\n",
    "\n",
    "def search_frame(input_grid, num , x, y):\n",
    "    \"\"\"\n",
    "    given an input_grid, search a frame(x) around the number for a gear (*)\n",
    "    and return the x,y of the gear location along with the number it was found with\n",
    "    \n",
    "    xxxxx\n",
    "    x567x\n",
    "    xxxx*\n",
    "\n",
    "    >>> search_frame( input_grid, 467, 0,0 )\n",
    "    [567, 4,2]\n",
    "    \n",
    "    \"\"\"\n",
    "    \n",
    "    num_len = len(str(num)) # len(\"123\") == 3\n",
    "    start_x = x - 1\n",
    "    start_y = y - 1\n",
    "    end_x = x+num_len\n",
    "    end_y = y + 1\n",
    "\n",
    "    for y in range(start_y, end_y+1):\n",
    "    \n",
    "        for x in range(start_x, end_x+1):\n",
    "            if x<0 or y<0 or x>=len(input_grid[0]) or y >= len(input_grid):\n",
    "                continue\n",
    "            if input_grid[y][x] == \"*\":\n",
    "                return [num, x,y]\n",
    "    \n",
    "    return False\n",
    "    \n",
    "\n",
    "total = 0\n",
    "hash_list = {}\n",
    "for y,num_list in enumerate([ find_nums(x) for x in input_grid]):\n",
    "    # y => row number starting with 0\n",
    "    # num_list => [ [num, xpos], [num, xpos] ]\n",
    "    for num in num_list:\n",
    "        # num => [num, xpos]\n",
    "        _t = search_frame( input_grid, num[0], num[1], y)\n",
    "        if _t:\n",
    "            _k = f\"{_t[1]}_{_t[2]}\" # x_y key\n",
    "            if _k in hash_list:\n",
    "                hash_list[_k].append(_t[0])\n",
    "            else:\n",
    "                hash_list[_k] = [_t[0]]\n",
    "\n",
    "\n",
    "total = 0\n",
    "for k in hash_list:\n",
    "    if len(hash_list[k]) == 2:\n",
    "        total += hash_list[k][0] * hash_list[k][1] \n",
    "\n",
    "total \n",
    "            \n",
    "\n",
    "\n",
    "\n",
    "\n"
   ]
  },
  {
   "cell_type": "code",
   "execution_count": 19,
   "id": "25d50e78-dad7-4b65-ba60-b56c16c6faac",
   "metadata": {},
   "outputs": [
    {
     "name": "stdout",
     "output_type": "stream",
     "text": [
      "Trying:\n",
      "    find_nums( ['4', '6', '7', '.', '.', '1', '1', '4', '.', '.'] )\n",
      "Expecting:\n",
      "    [[467, 0], [114, 5]]\n",
      "ok\n",
      "1 items had no tests:\n",
      "    __main__\n",
      "1 items passed all tests:\n",
      "   1 tests in __main__.find_nums\n",
      "1 tests in 2 items.\n",
      "1 passed and 0 failed.\n",
      "Test passed.\n"
     ]
    },
    {
     "data": {
      "text/plain": [
       "TestResults(failed=0, attempted=1)"
      ]
     },
     "execution_count": 19,
     "metadata": {},
     "output_type": "execute_result"
    }
   ],
   "source": [
    "import doctest\n",
    "doctest.testmod(verbose=True)"
   ]
  }
 ],
 "metadata": {
  "kernelspec": {
   "display_name": "Python 3 (ipykernel)",
   "language": "python",
   "name": "python3"
  },
  "language_info": {
   "codemirror_mode": {
    "name": "ipython",
    "version": 3
   },
   "file_extension": ".py",
   "mimetype": "text/x-python",
   "name": "python",
   "nbconvert_exporter": "python",
   "pygments_lexer": "ipython3",
   "version": "3.11.5"
  }
 },
 "nbformat": 4,
 "nbformat_minor": 5
}
