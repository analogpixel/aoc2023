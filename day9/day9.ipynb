{
 "cells": [
  {
   "cell_type": "code",
   "execution_count": 72,
   "id": "571a4fd4-5c04-4aaa-9b39-154f553255f6",
   "metadata": {},
   "outputs": [
    {
     "name": "stdout",
     "output_type": "stream",
     "text": [
      "1901217887\n",
      "905\n"
     ]
    }
   ],
   "source": [
    "import functools\n",
    "\n",
    "data = [ [int(a) for a in x.strip().split(' ' )] for x in open(\"d9.b\", \"r\").readlines() ]\n",
    "\n",
    "def next_value_front(l):\n",
    "    final_list = [ l ]\n",
    "    next_list = l\n",
    "    while True:\n",
    "        _t = [ next_list[i]-next_list[i-1] for i in range(1, len(next_list)) ]\n",
    "        if all( [x==0 for x in _t] ):\n",
    "            final_list.append(_t)\n",
    "            break\n",
    "        final_list.append(_t)\n",
    "        next_list = _t\n",
    "        \n",
    "    return sum([x[-1] for x in final_list])\n",
    "\n",
    "def next_value_back(l):\n",
    "    final_list = [ l ]\n",
    "    next_list = l\n",
    "    while True:\n",
    "        _t = [ next_list[i]-next_list[i-1] for i in range(1, len(next_list)) ]\n",
    "        if all( [x==0 for x in _t] ):\n",
    "            final_list.append(_t)\n",
    "            break\n",
    "        final_list.append(_t)\n",
    "        next_list = _t\n",
    "    return functools.reduce( lambda x,y: y-x, [x[0] for x in reversed(final_list)]) \n",
    "\n",
    "print(  sum( [next_value_front(a) for a in data ] ))\n",
    "print(  sum( [next_value_back(a) for a in data ] ))\n",
    "\n"
   ]
  }
 ],
 "metadata": {
  "kernelspec": {
   "display_name": "Python 3 (ipykernel)",
   "language": "python",
   "name": "python3"
  },
  "language_info": {
   "codemirror_mode": {
    "name": "ipython",
    "version": 3
   },
   "file_extension": ".py",
   "mimetype": "text/x-python",
   "name": "python",
   "nbconvert_exporter": "python",
   "pygments_lexer": "ipython3",
   "version": "3.11.5"
  }
 },
 "nbformat": 4,
 "nbformat_minor": 5
}
