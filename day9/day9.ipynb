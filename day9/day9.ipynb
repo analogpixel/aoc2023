{
 "cells": [
  {
   "cell_type": "code",
   "execution_count": 38,
   "id": "571a4fd4-5c04-4aaa-9b39-154f553255f6",
   "metadata": {},
   "outputs": [
    {
     "data": {
      "text/plain": [
       "1901217887"
      ]
     },
     "execution_count": 38,
     "metadata": {},
     "output_type": "execute_result"
    }
   ],
   "source": [
    "import functools\n",
    "\n",
    "data = [ [int(a) for a in x.strip().split(' ' )] for x in open(\"d9.b\", \"r\").readlines() ]\n",
    "\n",
    "def next_value(l):\n",
    "    final_list = [ l ]\n",
    "    next_list = l\n",
    "    while True:\n",
    "        _t = [ next_list[i]-next_list[i-1] for i in range(1, len(next_list)) ]\n",
    "        if all( [x==0 for x in _t] ):\n",
    "            final_list.append(_t)\n",
    "            break\n",
    "        final_list.append(_t)\n",
    "        next_list = _t\n",
    "        \n",
    "    return sum([x[-1] for x in final_list])\n",
    "    \n",
    "sum([next_value(a) for a in data])"
   ]
  },
  {
   "cell_type": "code",
   "execution_count": 15,
   "id": "2e8a9947-a3a5-47cb-b0e5-ae7aa4203019",
   "metadata": {},
   "outputs": [
    {
     "data": {
      "text/plain": [
       "True"
      ]
     },
     "execution_count": 15,
     "metadata": {},
     "output_type": "execute_result"
    }
   ],
   "source": [
    "all([1,1,1])"
   ]
  },
  {
   "cell_type": "code",
   "execution_count": null,
   "id": "d6149848-6ea2-4fcc-838a-54ca0ecc5c32",
   "metadata": {},
   "outputs": [],
   "source": []
  }
 ],
 "metadata": {
  "kernelspec": {
   "display_name": "Python 3 (ipykernel)",
   "language": "python",
   "name": "python3"
  },
  "language_info": {
   "codemirror_mode": {
    "name": "ipython",
    "version": 3
   },
   "file_extension": ".py",
   "mimetype": "text/x-python",
   "name": "python",
   "nbconvert_exporter": "python",
   "pygments_lexer": "ipython3",
   "version": "3.11.5"
  }
 },
 "nbformat": 4,
 "nbformat_minor": 5
}
